{
 "cells": [
  {
   "cell_type": "markdown",
   "id": "9faace00",
   "metadata": {},
   "source": [
    "# IMPORTING LIBRARIES#"
   ]
  },
  {
   "cell_type": "code",
   "execution_count": 1,
   "id": "adf417f8",
   "metadata": {},
   "outputs": [
    {
     "name": "stdout",
     "output_type": "stream",
     "text": [
      "Requirement already satisfied: apyori in c:\\users\\anurag srivastava\\anaconda3\\lib\\site-packages (1.1.2)\n"
     ]
    }
   ],
   "source": [
    "!pip install apyori\n"
   ]
  },
  {
   "cell_type": "code",
   "execution_count": 2,
   "id": "07a691c4",
   "metadata": {},
   "outputs": [],
   "source": [
    "import numpy as np\n",
    "import matplotlib.pyplot as plt\n",
    "import pandas as pd"
   ]
  },
  {
   "cell_type": "markdown",
   "id": "d0dc7203",
   "metadata": {},
   "source": [
    "# IMPORTING DATASET#"
   ]
  },
  {
   "cell_type": "code",
   "execution_count": 3,
   "id": "9417d8c3",
   "metadata": {},
   "outputs": [],
   "source": [
    "dataset = pd.read_csv('Big Basket.com Cart.csv', header = None)\n",
    "transactions = []\n",
    "\n",
    "for i in range(0, 7219):\n",
    "  transactions.append([str(dataset.values[i,j]) for j in range(0, 20)])"
   ]
  },
  {
   "cell_type": "markdown",
   "id": "0a4dfe16",
   "metadata": {},
   "source": [
    "# APRIORI TRAINING ON DATASET#"
   ]
  },
  {
   "cell_type": "code",
   "execution_count": 4,
   "id": "65e1e585",
   "metadata": {},
   "outputs": [],
   "source": [
    "from apyori import apriori\n",
    "rules = apriori(transactions = transactions, min_support = 0.003, min_confidence = 0.2, min_lift = 3, min_length = 2, max_length = 2)"
   ]
  },
  {
   "cell_type": "code",
   "execution_count": 5,
   "id": "168b5cea",
   "metadata": {},
   "outputs": [],
   "source": [
    "results = list(rules)"
   ]
  },
  {
   "cell_type": "markdown",
   "id": "cacd5b3f",
   "metadata": {},
   "source": [
    "# VISUALIZING RAW RESULT#"
   ]
  },
  {
   "cell_type": "code",
   "execution_count": 6,
   "id": "70789a01",
   "metadata": {},
   "outputs": [
    {
     "data": {
      "text/plain": [
       "[RelationRecord(items=frozenset({'burgers', 'almonds'}), support=0.005402410306136584, ordered_statistics=[OrderedStatistic(items_base=frozenset({'almonds'}), items_add=frozenset({'burgers'}), confidence=0.26530612244897955, lift=3.0594966421073218)]),\n",
       " RelationRecord(items=frozenset({'paneer', 'buns'}), support=0.016068707577226764, ordered_statistics=[OrderedStatistic(items_base=frozenset({'buns'}), items_add=frozenset({'paneer'}), confidence=0.32402234636871513, lift=3.2852771326344867)]),\n",
       " RelationRecord(items=frozenset({'ginger garlic paste', 'chicken'}), support=0.004571270259038648, ordered_statistics=[OrderedStatistic(items_base=frozenset({'ginger garlic paste'}), items_add=frozenset({'chicken'}), confidence=0.29203539823008845, lift=4.791371681415929)]),\n",
       " RelationRecord(items=frozenset({'vegetable basket', 'fruit basket'}), support=0.0055409336473195734, ordered_statistics=[OrderedStatistic(items_base=frozenset({'fruit basket'}), items_add=frozenset({'vegetable basket'}), confidence=0.29411764705882354, lift=3.081618714249125)]),\n",
       " RelationRecord(items=frozenset({'ginger garlic paste', 'olive oil'}), support=0.003324560188391744, ordered_statistics=[OrderedStatistic(items_base=frozenset({'ginger garlic paste'}), items_add=frozenset({'olive oil'}), confidence=0.21238938053097342, lift=3.2346813039094875)]),\n",
       " RelationRecord(items=frozenset({'paneer', 'kissan puree'}), support=0.005402410306136584, ordered_statistics=[OrderedStatistic(items_base=frozenset({'kissan puree'}), items_add=frozenset({'paneer'}), confidence=0.3786407766990291, lift=3.8390558525144542)]),\n",
       " RelationRecord(items=frozenset({'pasta', 'maggi'}), support=0.0034630835295747335, ordered_statistics=[OrderedStatistic(items_base=frozenset({'pasta'}), items_add=frozenset({'maggi'}), confidence=0.24752475247524755, lift=3.4562498803071797)]),\n",
       " RelationRecord(items=frozenset({'pasta', 'mushroom'}), support=0.005402410306136584, ordered_statistics=[OrderedStatistic(items_base=frozenset({'pasta'}), items_add=frozenset({'mushroom'}), confidence=0.38613861386138615, lift=4.873312331233124)]),\n",
       " RelationRecord(items=frozenset({'pepper spray', 'mushroom'}), support=0.005817980329685552, ordered_statistics=[OrderedStatistic(items_base=frozenset({'pepper spray'}), items_add=frozenset({'mushroom'}), confidence=0.3021582733812949, lift=3.8134275796146295)]),\n",
       " RelationRecord(items=frozenset({'neckrest', 'trolly bag'}), support=0.0034630835295747335, ordered_statistics=[OrderedStatistic(items_base=frozenset({'neckrest'}), items_add=frozenset({'trolly bag'}), confidence=0.2717391304347826, lift=5.620873302603712)]),\n",
       " RelationRecord(items=frozenset({'olive oil', 'whole wheat pasta'}), support=0.007757307106247403, ordered_statistics=[OrderedStatistic(items_base=frozenset({'whole wheat pasta'}), items_add=frozenset({'olive oil'}), confidence=0.26666666666666666, lift=4.061322081575246)])]"
      ]
     },
     "execution_count": 6,
     "metadata": {},
     "output_type": "execute_result"
    }
   ],
   "source": [
    "results"
   ]
  },
  {
   "cell_type": "code",
   "execution_count": 7,
   "id": "a3bf5021",
   "metadata": {},
   "outputs": [
    {
     "name": "stdout",
     "output_type": "stream",
     "text": [
      "[RelationRecord(items=frozenset({'burgers', 'almonds'}), support=0.005402410306136584, ordered_statistics=[OrderedStatistic(items_base=frozenset({'almonds'}), items_add=frozenset({'burgers'}), confidence=0.26530612244897955, lift=3.0594966421073218)]), RelationRecord(items=frozenset({'paneer', 'buns'}), support=0.016068707577226764, ordered_statistics=[OrderedStatistic(items_base=frozenset({'buns'}), items_add=frozenset({'paneer'}), confidence=0.32402234636871513, lift=3.2852771326344867)]), RelationRecord(items=frozenset({'ginger garlic paste', 'chicken'}), support=0.004571270259038648, ordered_statistics=[OrderedStatistic(items_base=frozenset({'ginger garlic paste'}), items_add=frozenset({'chicken'}), confidence=0.29203539823008845, lift=4.791371681415929)]), RelationRecord(items=frozenset({'vegetable basket', 'fruit basket'}), support=0.0055409336473195734, ordered_statistics=[OrderedStatistic(items_base=frozenset({'fruit basket'}), items_add=frozenset({'vegetable basket'}), confidence=0.29411764705882354, lift=3.081618714249125)]), RelationRecord(items=frozenset({'ginger garlic paste', 'olive oil'}), support=0.003324560188391744, ordered_statistics=[OrderedStatistic(items_base=frozenset({'ginger garlic paste'}), items_add=frozenset({'olive oil'}), confidence=0.21238938053097342, lift=3.2346813039094875)]), RelationRecord(items=frozenset({'paneer', 'kissan puree'}), support=0.005402410306136584, ordered_statistics=[OrderedStatistic(items_base=frozenset({'kissan puree'}), items_add=frozenset({'paneer'}), confidence=0.3786407766990291, lift=3.8390558525144542)]), RelationRecord(items=frozenset({'pasta', 'maggi'}), support=0.0034630835295747335, ordered_statistics=[OrderedStatistic(items_base=frozenset({'pasta'}), items_add=frozenset({'maggi'}), confidence=0.24752475247524755, lift=3.4562498803071797)]), RelationRecord(items=frozenset({'pasta', 'mushroom'}), support=0.005402410306136584, ordered_statistics=[OrderedStatistic(items_base=frozenset({'pasta'}), items_add=frozenset({'mushroom'}), confidence=0.38613861386138615, lift=4.873312331233124)]), RelationRecord(items=frozenset({'pepper spray', 'mushroom'}), support=0.005817980329685552, ordered_statistics=[OrderedStatistic(items_base=frozenset({'pepper spray'}), items_add=frozenset({'mushroom'}), confidence=0.3021582733812949, lift=3.8134275796146295)]), RelationRecord(items=frozenset({'neckrest', 'trolly bag'}), support=0.0034630835295747335, ordered_statistics=[OrderedStatistic(items_base=frozenset({'neckrest'}), items_add=frozenset({'trolly bag'}), confidence=0.2717391304347826, lift=5.620873302603712)]), RelationRecord(items=frozenset({'olive oil', 'whole wheat pasta'}), support=0.007757307106247403, ordered_statistics=[OrderedStatistic(items_base=frozenset({'whole wheat pasta'}), items_add=frozenset({'olive oil'}), confidence=0.26666666666666666, lift=4.061322081575246)])]\n"
     ]
    }
   ],
   "source": [
    "print(results)"
   ]
  },
  {
   "cell_type": "markdown",
   "id": "39e37fd8",
   "metadata": {},
   "source": [
    "# PROPER DISPLAY#"
   ]
  },
  {
   "cell_type": "code",
   "execution_count": 8,
   "id": "688d49ae",
   "metadata": {},
   "outputs": [],
   "source": [
    "def inspect(results):\n",
    "    product1         = [tuple(result[2][0][0])[0] for result in results]\n",
    "    product2         = [tuple(result[2][0][1])[0] for result in results]\n",
    "    supports    = [result[1] for result in results]\n",
    "    confidences = [result[2][0][2] for result in results]\n",
    "    lifts       = [result[2][0][3] for result in results]\n",
    "    return list(zip(product1, product2, supports, confidences, lifts))\n",
    "DataFrame_intelligence = pd.DataFrame(inspect(results), columns = ['product1', 'product1', 'Support', 'Confidence', 'Lift'])"
   ]
  },
  {
   "cell_type": "code",
   "execution_count": 9,
   "id": "a158dbba",
   "metadata": {},
   "outputs": [
    {
     "data": {
      "text/html": [
       "<div>\n",
       "<style scoped>\n",
       "    .dataframe tbody tr th:only-of-type {\n",
       "        vertical-align: middle;\n",
       "    }\n",
       "\n",
       "    .dataframe tbody tr th {\n",
       "        vertical-align: top;\n",
       "    }\n",
       "\n",
       "    .dataframe thead th {\n",
       "        text-align: right;\n",
       "    }\n",
       "</style>\n",
       "<table border=\"1\" class=\"dataframe\">\n",
       "  <thead>\n",
       "    <tr style=\"text-align: right;\">\n",
       "      <th></th>\n",
       "      <th>product1</th>\n",
       "      <th>product1</th>\n",
       "      <th>Support</th>\n",
       "      <th>Confidence</th>\n",
       "      <th>Lift</th>\n",
       "    </tr>\n",
       "  </thead>\n",
       "  <tbody>\n",
       "    <tr>\n",
       "      <th>0</th>\n",
       "      <td>almonds</td>\n",
       "      <td>burgers</td>\n",
       "      <td>0.005402</td>\n",
       "      <td>0.265306</td>\n",
       "      <td>3.059497</td>\n",
       "    </tr>\n",
       "    <tr>\n",
       "      <th>1</th>\n",
       "      <td>buns</td>\n",
       "      <td>paneer</td>\n",
       "      <td>0.016069</td>\n",
       "      <td>0.324022</td>\n",
       "      <td>3.285277</td>\n",
       "    </tr>\n",
       "    <tr>\n",
       "      <th>2</th>\n",
       "      <td>ginger garlic paste</td>\n",
       "      <td>chicken</td>\n",
       "      <td>0.004571</td>\n",
       "      <td>0.292035</td>\n",
       "      <td>4.791372</td>\n",
       "    </tr>\n",
       "    <tr>\n",
       "      <th>3</th>\n",
       "      <td>fruit basket</td>\n",
       "      <td>vegetable basket</td>\n",
       "      <td>0.005541</td>\n",
       "      <td>0.294118</td>\n",
       "      <td>3.081619</td>\n",
       "    </tr>\n",
       "    <tr>\n",
       "      <th>4</th>\n",
       "      <td>ginger garlic paste</td>\n",
       "      <td>olive oil</td>\n",
       "      <td>0.003325</td>\n",
       "      <td>0.212389</td>\n",
       "      <td>3.234681</td>\n",
       "    </tr>\n",
       "    <tr>\n",
       "      <th>5</th>\n",
       "      <td>kissan puree</td>\n",
       "      <td>paneer</td>\n",
       "      <td>0.005402</td>\n",
       "      <td>0.378641</td>\n",
       "      <td>3.839056</td>\n",
       "    </tr>\n",
       "    <tr>\n",
       "      <th>6</th>\n",
       "      <td>pasta</td>\n",
       "      <td>maggi</td>\n",
       "      <td>0.003463</td>\n",
       "      <td>0.247525</td>\n",
       "      <td>3.456250</td>\n",
       "    </tr>\n",
       "    <tr>\n",
       "      <th>7</th>\n",
       "      <td>pasta</td>\n",
       "      <td>mushroom</td>\n",
       "      <td>0.005402</td>\n",
       "      <td>0.386139</td>\n",
       "      <td>4.873312</td>\n",
       "    </tr>\n",
       "    <tr>\n",
       "      <th>8</th>\n",
       "      <td>pepper spray</td>\n",
       "      <td>mushroom</td>\n",
       "      <td>0.005818</td>\n",
       "      <td>0.302158</td>\n",
       "      <td>3.813428</td>\n",
       "    </tr>\n",
       "    <tr>\n",
       "      <th>9</th>\n",
       "      <td>neckrest</td>\n",
       "      <td>trolly bag</td>\n",
       "      <td>0.003463</td>\n",
       "      <td>0.271739</td>\n",
       "      <td>5.620873</td>\n",
       "    </tr>\n",
       "    <tr>\n",
       "      <th>10</th>\n",
       "      <td>whole wheat pasta</td>\n",
       "      <td>olive oil</td>\n",
       "      <td>0.007757</td>\n",
       "      <td>0.266667</td>\n",
       "      <td>4.061322</td>\n",
       "    </tr>\n",
       "  </tbody>\n",
       "</table>\n",
       "</div>"
      ],
      "text/plain": [
       "               product1          product1   Support  Confidence      Lift\n",
       "0               almonds           burgers  0.005402    0.265306  3.059497\n",
       "1                  buns            paneer  0.016069    0.324022  3.285277\n",
       "2   ginger garlic paste           chicken  0.004571    0.292035  4.791372\n",
       "3          fruit basket  vegetable basket  0.005541    0.294118  3.081619\n",
       "4   ginger garlic paste         olive oil  0.003325    0.212389  3.234681\n",
       "5          kissan puree            paneer  0.005402    0.378641  3.839056\n",
       "6                 pasta             maggi  0.003463    0.247525  3.456250\n",
       "7                 pasta          mushroom  0.005402    0.386139  4.873312\n",
       "8          pepper spray          mushroom  0.005818    0.302158  3.813428\n",
       "9              neckrest        trolly bag  0.003463    0.271739  5.620873\n",
       "10    whole wheat pasta         olive oil  0.007757    0.266667  4.061322"
      ]
     },
     "execution_count": 9,
     "metadata": {},
     "output_type": "execute_result"
    }
   ],
   "source": [
    "DataFrame_intelligence"
   ]
  },
  {
   "cell_type": "code",
   "execution_count": 10,
   "id": "727019c9",
   "metadata": {},
   "outputs": [
    {
     "data": {
      "text/html": [
       "<div>\n",
       "<style scoped>\n",
       "    .dataframe tbody tr th:only-of-type {\n",
       "        vertical-align: middle;\n",
       "    }\n",
       "\n",
       "    .dataframe tbody tr th {\n",
       "        vertical-align: top;\n",
       "    }\n",
       "\n",
       "    .dataframe thead th {\n",
       "        text-align: right;\n",
       "    }\n",
       "</style>\n",
       "<table border=\"1\" class=\"dataframe\">\n",
       "  <thead>\n",
       "    <tr style=\"text-align: right;\">\n",
       "      <th></th>\n",
       "      <th>product1</th>\n",
       "      <th>product1</th>\n",
       "      <th>Support</th>\n",
       "      <th>Confidence</th>\n",
       "      <th>Lift</th>\n",
       "    </tr>\n",
       "  </thead>\n",
       "  <tbody>\n",
       "    <tr>\n",
       "      <th>9</th>\n",
       "      <td>neckrest</td>\n",
       "      <td>trolly bag</td>\n",
       "      <td>0.003463</td>\n",
       "      <td>0.271739</td>\n",
       "      <td>5.620873</td>\n",
       "    </tr>\n",
       "    <tr>\n",
       "      <th>7</th>\n",
       "      <td>pasta</td>\n",
       "      <td>mushroom</td>\n",
       "      <td>0.005402</td>\n",
       "      <td>0.386139</td>\n",
       "      <td>4.873312</td>\n",
       "    </tr>\n",
       "    <tr>\n",
       "      <th>2</th>\n",
       "      <td>ginger garlic paste</td>\n",
       "      <td>chicken</td>\n",
       "      <td>0.004571</td>\n",
       "      <td>0.292035</td>\n",
       "      <td>4.791372</td>\n",
       "    </tr>\n",
       "    <tr>\n",
       "      <th>10</th>\n",
       "      <td>whole wheat pasta</td>\n",
       "      <td>olive oil</td>\n",
       "      <td>0.007757</td>\n",
       "      <td>0.266667</td>\n",
       "      <td>4.061322</td>\n",
       "    </tr>\n",
       "    <tr>\n",
       "      <th>5</th>\n",
       "      <td>kissan puree</td>\n",
       "      <td>paneer</td>\n",
       "      <td>0.005402</td>\n",
       "      <td>0.378641</td>\n",
       "      <td>3.839056</td>\n",
       "    </tr>\n",
       "    <tr>\n",
       "      <th>8</th>\n",
       "      <td>pepper spray</td>\n",
       "      <td>mushroom</td>\n",
       "      <td>0.005818</td>\n",
       "      <td>0.302158</td>\n",
       "      <td>3.813428</td>\n",
       "    </tr>\n",
       "    <tr>\n",
       "      <th>6</th>\n",
       "      <td>pasta</td>\n",
       "      <td>maggi</td>\n",
       "      <td>0.003463</td>\n",
       "      <td>0.247525</td>\n",
       "      <td>3.456250</td>\n",
       "    </tr>\n",
       "    <tr>\n",
       "      <th>1</th>\n",
       "      <td>buns</td>\n",
       "      <td>paneer</td>\n",
       "      <td>0.016069</td>\n",
       "      <td>0.324022</td>\n",
       "      <td>3.285277</td>\n",
       "    </tr>\n",
       "    <tr>\n",
       "      <th>4</th>\n",
       "      <td>ginger garlic paste</td>\n",
       "      <td>olive oil</td>\n",
       "      <td>0.003325</td>\n",
       "      <td>0.212389</td>\n",
       "      <td>3.234681</td>\n",
       "    </tr>\n",
       "    <tr>\n",
       "      <th>3</th>\n",
       "      <td>fruit basket</td>\n",
       "      <td>vegetable basket</td>\n",
       "      <td>0.005541</td>\n",
       "      <td>0.294118</td>\n",
       "      <td>3.081619</td>\n",
       "    </tr>\n",
       "  </tbody>\n",
       "</table>\n",
       "</div>"
      ],
      "text/plain": [
       "               product1          product1   Support  Confidence      Lift\n",
       "9              neckrest        trolly bag  0.003463    0.271739  5.620873\n",
       "7                 pasta          mushroom  0.005402    0.386139  4.873312\n",
       "2   ginger garlic paste           chicken  0.004571    0.292035  4.791372\n",
       "10    whole wheat pasta         olive oil  0.007757    0.266667  4.061322\n",
       "5          kissan puree            paneer  0.005402    0.378641  3.839056\n",
       "8          pepper spray          mushroom  0.005818    0.302158  3.813428\n",
       "6                 pasta             maggi  0.003463    0.247525  3.456250\n",
       "1                  buns            paneer  0.016069    0.324022  3.285277\n",
       "4   ginger garlic paste         olive oil  0.003325    0.212389  3.234681\n",
       "3          fruit basket  vegetable basket  0.005541    0.294118  3.081619"
      ]
     },
     "execution_count": 10,
     "metadata": {},
     "output_type": "execute_result"
    }
   ],
   "source": [
    "DataFrame_intelligence.nlargest(n = 10, columns = 'Lift')"
   ]
  },
  {
   "cell_type": "code",
   "execution_count": null,
   "id": "7820a68b",
   "metadata": {},
   "outputs": [],
   "source": []
  }
 ],
 "metadata": {
  "kernelspec": {
   "display_name": "Python 3 (ipykernel)",
   "language": "python",
   "name": "python3"
  },
  "language_info": {
   "codemirror_mode": {
    "name": "ipython",
    "version": 3
   },
   "file_extension": ".py",
   "mimetype": "text/x-python",
   "name": "python",
   "nbconvert_exporter": "python",
   "pygments_lexer": "ipython3",
   "version": "3.9.7"
  }
 },
 "nbformat": 4,
 "nbformat_minor": 5
}
